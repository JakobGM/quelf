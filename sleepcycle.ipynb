{
 "cells": [
  {
   "cell_type": "code",
   "execution_count": 131,
   "metadata": {},
   "outputs": [],
   "source": [
    "# Allow multiple outputs in a single cell\n",
    "from IPython.core.interactiveshell import InteractiveShell\n",
    "InteractiveShell.ast_node_interactivity = \"all\""
   ]
  },
  {
   "cell_type": "markdown",
   "metadata": {},
   "source": [
    "# Analysis of SleepCycle data\n",
    "\n",
    "Let's start by downloading the data from SleepSecure(TM). This might take a while the first time, as the data is downloaded from a *relatively* slow server:"
   ]
  },
  {
   "cell_type": "code",
   "execution_count": null,
   "metadata": {},
   "outputs": [],
   "source": [
    "from quelf.sleepcycle import SleepCycle\n",
    "\n",
    "sc = SleepCycle()\n",
    "data = sc.data"
   ]
  },
  {
   "cell_type": "markdown",
   "metadata": {},
   "source": [
    "How large is our dataset?"
   ]
  },
  {
   "cell_type": "code",
   "execution_count": null,
   "metadata": {},
   "outputs": [],
   "source": [
    "len(data)"
   ]
  },
  {
   "cell_type": "markdown",
   "metadata": {},
   "source": [
    "What does our data consist of?"
   ]
  },
  {
   "cell_type": "code",
   "execution_count": null,
   "metadata": {},
   "outputs": [],
   "source": [
    "data.columns"
   ]
  },
  {
   "cell_type": "markdown",
   "metadata": {},
   "source": [
    "What does our latest data point look like?"
   ]
  },
  {
   "cell_type": "code",
   "execution_count": null,
   "metadata": {},
   "outputs": [],
   "source": [
    "data.loc[0]"
   ]
  },
  {
   "cell_type": "markdown",
   "metadata": {},
   "source": [
    "## Data processing\n",
    "Let's calculate how long each sleep recording lasts:"
   ]
  },
  {
   "cell_type": "code",
   "execution_count": null,
   "metadata": {},
   "outputs": [],
   "source": [
    "time_slept = data['stop'] - data['start']\n",
    "data['time_slept'] = time_slept\n",
    "time_slept.describe()"
   ]
  },
  {
   "cell_type": "markdown",
   "metadata": {},
   "source": [
    "The dataset might contain some outliers. If these maximum and/or minimum values look incorrect to you, you might want to delete the datapoints from the SleepCycle app, delete the contents of the ``data`` directory, and rerun the notebook."
   ]
  },
  {
   "cell_type": "code",
   "execution_count": null,
   "metadata": {},
   "outputs": [],
   "source": [
    "# Show the maximum and minimum time slept, and on which date they occur\n",
    "data[data['time_slept'] == data['time_slept'].max()]\n",
    "data[data['time_slept'] == data['time_slept'].min()]"
   ]
  },
  {
   "cell_type": "code",
   "execution_count": null,
   "metadata": {},
   "outputs": [],
   "source": [
    "from datetime import timedelta\n",
    "import matplotlib.pyplot as plt\n",
    "import matplotlib.cm as cm\n",
    "import numpy as np\n",
    "\n",
    "# Fill the width of a 1920x1080 screen when plotting the entire dataset\n",
    "plt.rcParams['figure.figsize'] = [25, 6]\n",
    "\n",
    "# Use FiveThirtyEight matplotlib theme\n",
    "plt.style.use('fivethirtyeight')\n",
    "\n",
    "# Calculate time went to bed, as a offset relative to 18:00\n",
    "went_to_bed = (data['start'].dt.hour + (data['start'].dt.second / 60) - 18) % 24\n",
    "\n",
    "# Decimal hours slept\n",
    "hours_slept = time_slept.dt.total_seconds() / (60 * 60)\n",
    "\n",
    "# Create colormap relative to hours slept\n",
    "norm = (hours_slept - hours_slept.min()) / hours_slept.max()\n",
    "cmap = cm.get_cmap()\n",
    "color_map = cmap(norm)\n",
    "\n",
    "# Bottom of barplot relative to 18:00, height relative to hours slept\n",
    "ax = plt.bar(data['start'].values, hours_slept, bottom=went_to_bed, width=1.125, color=color_map)\n",
    "\n",
    "plt.xlabel('Date')\n",
    "plt.ylabel('Hours slept')\n",
    "\n",
    "# Map ticks relative to 18:00\n",
    "plt.yticks((np.arange(2, 25, 2) - 18) % 24, (np.arange(2, 25, 2)))\n",
    "\n",
    "plt.show()"
   ]
  },
  {
   "cell_type": "code",
   "execution_count": null,
   "metadata": {},
   "outputs": [],
   "source": []
  },
  {
   "cell_type": "code",
   "execution_count": null,
   "metadata": {},
   "outputs": [],
   "source": []
  }
 ],
 "metadata": {
  "kernelspec": {
   "display_name": "Python 3",
   "language": "python",
   "name": "python3"
  },
  "language_info": {
   "codemirror_mode": {
    "name": "ipython",
    "version": 3
   },
   "file_extension": ".py",
   "mimetype": "text/x-python",
   "name": "python",
   "nbconvert_exporter": "python",
   "pygments_lexer": "ipython3",
   "version": "3.6.4"
  }
 },
 "nbformat": 4,
 "nbformat_minor": 2
}
