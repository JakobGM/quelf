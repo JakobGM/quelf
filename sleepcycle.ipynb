{
 "cells": [
  {
   "cell_type": "code",
   "execution_count": 1,
   "metadata": {},
   "outputs": [],
   "source": [
    "# Allow multiple outputs in a single cell\n",
    "from IPython.core.interactiveshell import InteractiveShell\n",
    "InteractiveShell.ast_node_interactivity = \"all\""
   ]
  },
  {
   "cell_type": "markdown",
   "metadata": {},
   "source": [
    "# Analysis of SleepCycle(TM) data\n",
    "\n",
    "Let's start by downloading the data from SleepSecure(TM). This might take a while the first time, as the data is downloaded from a *relatively* slow server:"
   ]
  },
  {
   "cell_type": "code",
   "execution_count": 2,
   "metadata": {},
   "outputs": [],
   "source": [
    "from quelf.sleepcycle import SleepCycle\n",
    "\n",
    "sc = SleepCycle()\n",
    "data = sc.data"
   ]
  },
  {
   "cell_type": "markdown",
   "metadata": {},
   "source": [
    "How large is our dataset?"
   ]
  },
  {
   "cell_type": "code",
   "execution_count": 3,
   "metadata": {},
   "outputs": [
    {
     "data": {
      "text/plain": [
       "820"
      ]
     },
     "execution_count": 3,
     "metadata": {},
     "output_type": "execute_result"
    }
   ],
   "source": [
    "len(data)"
   ]
  },
  {
   "cell_type": "markdown",
   "metadata": {},
   "source": [
    "What does our data consist of?"
   ]
  },
  {
   "cell_type": "code",
   "execution_count": 4,
   "metadata": {},
   "outputs": [
    {
     "data": {
      "text/plain": [
       "Index(['events', 'start', 'stop'], dtype='object')"
      ]
     },
     "execution_count": 4,
     "metadata": {},
     "output_type": "execute_result"
    }
   ],
   "source": [
    "data.columns"
   ]
  },
  {
   "cell_type": "markdown",
   "metadata": {},
   "source": [
    "What does our latest data point look like?"
   ]
  },
  {
   "cell_type": "code",
   "execution_count": 5,
   "metadata": {},
   "outputs": [
    {
     "data": {
      "text/plain": [
       "events    [[60.0, 3, 0.11230000000000001], [60.0, 1, 0.0...\n",
       "start                                   2018-03-31 01:09:58\n",
       "stop                                    2018-03-31 09:03:21\n",
       "Name: 0, dtype: object"
      ]
     },
     "execution_count": 5,
     "metadata": {},
     "output_type": "execute_result"
    }
   ],
   "source": [
    "data.loc[0]"
   ]
  },
  {
   "cell_type": "markdown",
   "metadata": {},
   "source": [
    "## Data processing\n",
    "Let's calculate how long each sleep recording lasts:"
   ]
  },
  {
   "cell_type": "code",
   "execution_count": 6,
   "metadata": {},
   "outputs": [
    {
     "data": {
      "text/plain": [
       "count                       820\n",
       "mean     0 days 08:48:10.129268\n",
       "std      0 days 01:22:09.785122\n",
       "min             0 days 01:09:58\n",
       "25%      0 days 08:06:46.750000\n",
       "50%      0 days 08:36:09.500000\n",
       "75%      0 days 09:25:50.750000\n",
       "max             0 days 14:20:10\n",
       "dtype: object"
      ]
     },
     "execution_count": 6,
     "metadata": {},
     "output_type": "execute_result"
    }
   ],
   "source": [
    "time_slept = data['stop'] - data['start']\n",
    "data['time_slept'] = time_slept\n",
    "time_slept.describe()"
   ]
  },
  {
   "cell_type": "markdown",
   "metadata": {},
   "source": [
    "#### Outlier detection\n",
    "The dataset might contain some outliers. If these maximum and/or minimum values look incorrect to you, you might want to delete the datapoints from the SleepCycle app, delete the contents of the ``data`` directory, and rerun the notebook."
   ]
  },
  {
   "cell_type": "code",
   "execution_count": 7,
   "metadata": {},
   "outputs": [
    {
     "data": {
      "text/html": [
       "<div>\n",
       "<style scoped>\n",
       "    .dataframe tbody tr th:only-of-type {\n",
       "        vertical-align: middle;\n",
       "    }\n",
       "\n",
       "    .dataframe tbody tr th {\n",
       "        vertical-align: top;\n",
       "    }\n",
       "\n",
       "    .dataframe thead th {\n",
       "        text-align: right;\n",
       "    }\n",
       "</style>\n",
       "<table border=\"1\" class=\"dataframe\">\n",
       "  <thead>\n",
       "    <tr style=\"text-align: right;\">\n",
       "      <th></th>\n",
       "      <th>events</th>\n",
       "      <th>start</th>\n",
       "      <th>stop</th>\n",
       "      <th>time_slept</th>\n",
       "    </tr>\n",
       "  </thead>\n",
       "  <tbody>\n",
       "    <tr>\n",
       "      <th>178</th>\n",
       "      <td>[[60.0, 3, 0.3593], [60.0, 1, 0.53549999999999...</td>\n",
       "      <td>2017-09-30 01:42:30</td>\n",
       "      <td>2017-09-30 16:02:40</td>\n",
       "      <td>14:20:10</td>\n",
       "    </tr>\n",
       "  </tbody>\n",
       "</table>\n",
       "</div>"
      ],
      "text/plain": [
       "                                                events               start  \\\n",
       "178  [[60.0, 3, 0.3593], [60.0, 1, 0.53549999999999... 2017-09-30 01:42:30   \n",
       "\n",
       "                   stop time_slept  \n",
       "178 2017-09-30 16:02:40   14:20:10  "
      ]
     },
     "execution_count": 7,
     "metadata": {},
     "output_type": "execute_result"
    },
    {
     "data": {
      "text/html": [
       "<div>\n",
       "<style scoped>\n",
       "    .dataframe tbody tr th:only-of-type {\n",
       "        vertical-align: middle;\n",
       "    }\n",
       "\n",
       "    .dataframe tbody tr th {\n",
       "        vertical-align: top;\n",
       "    }\n",
       "\n",
       "    .dataframe thead th {\n",
       "        text-align: right;\n",
       "    }\n",
       "</style>\n",
       "<table border=\"1\" class=\"dataframe\">\n",
       "  <thead>\n",
       "    <tr style=\"text-align: right;\">\n",
       "      <th></th>\n",
       "      <th>events</th>\n",
       "      <th>start</th>\n",
       "      <th>stop</th>\n",
       "      <th>time_slept</th>\n",
       "    </tr>\n",
       "  </thead>\n",
       "  <tbody>\n",
       "    <tr>\n",
       "      <th>86</th>\n",
       "      <td>[[60.0, 1, 0.062399999999999005], [60.0, 3, 0....</td>\n",
       "      <td>2018-01-07 03:14:30</td>\n",
       "      <td>2018-01-07 04:24:28</td>\n",
       "      <td>01:09:58</td>\n",
       "    </tr>\n",
       "  </tbody>\n",
       "</table>\n",
       "</div>"
      ],
      "text/plain": [
       "                                               events               start  \\\n",
       "86  [[60.0, 1, 0.062399999999999005], [60.0, 3, 0.... 2018-01-07 03:14:30   \n",
       "\n",
       "                  stop time_slept  \n",
       "86 2018-01-07 04:24:28   01:09:58  "
      ]
     },
     "execution_count": 7,
     "metadata": {},
     "output_type": "execute_result"
    }
   ],
   "source": [
    "# Show the maximum and minimum time slept, and on which date they occur\n",
    "data[data['time_slept'] == data['time_slept'].max()]\n",
    "data[data['time_slept'] == data['time_slept'].min()]"
   ]
  },
  {
   "cell_type": "markdown",
   "metadata": {},
   "source": [
    "Set ``MAX_HOURS`` and ``MIN_HOURS`` to a value which could indicate something being wrongly recorded into SleepCycle."
   ]
  },
  {
   "cell_type": "code",
   "execution_count": 8,
   "metadata": {},
   "outputs": [
    {
     "data": {
      "text/html": [
       "<div>\n",
       "<style scoped>\n",
       "    .dataframe tbody tr th:only-of-type {\n",
       "        vertical-align: middle;\n",
       "    }\n",
       "\n",
       "    .dataframe tbody tr th {\n",
       "        vertical-align: top;\n",
       "    }\n",
       "\n",
       "    .dataframe thead th {\n",
       "        text-align: right;\n",
       "    }\n",
       "</style>\n",
       "<table border=\"1\" class=\"dataframe\">\n",
       "  <thead>\n",
       "    <tr style=\"text-align: right;\">\n",
       "      <th></th>\n",
       "      <th>events</th>\n",
       "      <th>start</th>\n",
       "      <th>stop</th>\n",
       "      <th>time_slept</th>\n",
       "    </tr>\n",
       "  </thead>\n",
       "  <tbody>\n",
       "    <tr>\n",
       "      <th>178</th>\n",
       "      <td>[[60.0, 3, 0.3593], [60.0, 1, 0.53549999999999...</td>\n",
       "      <td>2017-09-30 01:42:30</td>\n",
       "      <td>2017-09-30 16:02:40</td>\n",
       "      <td>14:20:10</td>\n",
       "    </tr>\n",
       "    <tr>\n",
       "      <th>291</th>\n",
       "      <td>[[60.0, 1, 0.0454], [60.0, 3, 0.0086], [120.0,...</td>\n",
       "      <td>2017-06-03 00:22:45</td>\n",
       "      <td>2017-06-03 13:32:00</td>\n",
       "      <td>13:09:15</td>\n",
       "    </tr>\n",
       "    <tr>\n",
       "      <th>353</th>\n",
       "      <td>[[60.0, 1, 0.047399999999999005], [60.0, 3, 0....</td>\n",
       "      <td>2017-04-01 01:11:42</td>\n",
       "      <td>2017-04-01 14:44:52</td>\n",
       "      <td>13:33:10</td>\n",
       "    </tr>\n",
       "    <tr>\n",
       "      <th>442</th>\n",
       "      <td>[[60.0, 3, 0.0018000000000000002], [60.0, 1, 0...</td>\n",
       "      <td>2017-01-03 01:25:44</td>\n",
       "      <td>2017-01-03 14:30:02</td>\n",
       "      <td>13:04:18</td>\n",
       "    </tr>\n",
       "    <tr>\n",
       "      <th>571</th>\n",
       "      <td>[[60.0, 3, 0.010400000000000001], [60.0, 1, 0....</td>\n",
       "      <td>2016-08-26 00:50:44</td>\n",
       "      <td>2016-08-26 15:03:34</td>\n",
       "      <td>14:12:50</td>\n",
       "    </tr>\n",
       "    <tr>\n",
       "      <th>788</th>\n",
       "      <td>[[60.0, 1, 0.06419999999999901], [120.0, 1, 0....</td>\n",
       "      <td>2016-01-14 21:43:36</td>\n",
       "      <td>2016-01-15 11:27:13</td>\n",
       "      <td>13:43:37</td>\n",
       "    </tr>\n",
       "  </tbody>\n",
       "</table>\n",
       "</div>"
      ],
      "text/plain": [
       "                                                events               start  \\\n",
       "178  [[60.0, 3, 0.3593], [60.0, 1, 0.53549999999999... 2017-09-30 01:42:30   \n",
       "291  [[60.0, 1, 0.0454], [60.0, 3, 0.0086], [120.0,... 2017-06-03 00:22:45   \n",
       "353  [[60.0, 1, 0.047399999999999005], [60.0, 3, 0.... 2017-04-01 01:11:42   \n",
       "442  [[60.0, 3, 0.0018000000000000002], [60.0, 1, 0... 2017-01-03 01:25:44   \n",
       "571  [[60.0, 3, 0.010400000000000001], [60.0, 1, 0.... 2016-08-26 00:50:44   \n",
       "788  [[60.0, 1, 0.06419999999999901], [120.0, 1, 0.... 2016-01-14 21:43:36   \n",
       "\n",
       "                   stop time_slept  \n",
       "178 2017-09-30 16:02:40   14:20:10  \n",
       "291 2017-06-03 13:32:00   13:09:15  \n",
       "353 2017-04-01 14:44:52   13:33:10  \n",
       "442 2017-01-03 14:30:02   13:04:18  \n",
       "571 2016-08-26 15:03:34   14:12:50  \n",
       "788 2016-01-15 11:27:13   13:43:37  "
      ]
     },
     "execution_count": 8,
     "metadata": {},
     "output_type": "execute_result"
    },
    {
     "data": {
      "text/html": [
       "<div>\n",
       "<style scoped>\n",
       "    .dataframe tbody tr th:only-of-type {\n",
       "        vertical-align: middle;\n",
       "    }\n",
       "\n",
       "    .dataframe tbody tr th {\n",
       "        vertical-align: top;\n",
       "    }\n",
       "\n",
       "    .dataframe thead th {\n",
       "        text-align: right;\n",
       "    }\n",
       "</style>\n",
       "<table border=\"1\" class=\"dataframe\">\n",
       "  <thead>\n",
       "    <tr style=\"text-align: right;\">\n",
       "      <th></th>\n",
       "      <th>events</th>\n",
       "      <th>start</th>\n",
       "      <th>stop</th>\n",
       "      <th>time_slept</th>\n",
       "    </tr>\n",
       "  </thead>\n",
       "  <tbody>\n",
       "    <tr>\n",
       "      <th>66</th>\n",
       "      <td>[[60.0, 1, 0.057799999999999005], [60.0, 3, 0....</td>\n",
       "      <td>2018-01-25 01:13:29</td>\n",
       "      <td>2018-01-25 04:13:31</td>\n",
       "      <td>03:00:02</td>\n",
       "    </tr>\n",
       "    <tr>\n",
       "      <th>67</th>\n",
       "      <td>[[60.0, 3, 0.003899999999999], [60.0, 1, 0.054...</td>\n",
       "      <td>2018-01-24 22:49:56</td>\n",
       "      <td>2018-01-25 01:06:58</td>\n",
       "      <td>02:17:02</td>\n",
       "    </tr>\n",
       "    <tr>\n",
       "      <th>86</th>\n",
       "      <td>[[60.0, 1, 0.062399999999999005], [60.0, 3, 0....</td>\n",
       "      <td>2018-01-07 03:14:30</td>\n",
       "      <td>2018-01-07 04:24:28</td>\n",
       "      <td>01:09:58</td>\n",
       "    </tr>\n",
       "    <tr>\n",
       "      <th>339</th>\n",
       "      <td>[[60.0, 1, 0.068], [60.0, 3, 0.0178], [120.0, ...</td>\n",
       "      <td>2017-04-15 01:03:35</td>\n",
       "      <td>2017-04-15 02:22:44</td>\n",
       "      <td>01:19:09</td>\n",
       "    </tr>\n",
       "    <tr>\n",
       "      <th>372</th>\n",
       "      <td>[[60.0, 1, 0.053199999999999005], [60.0, 3, 0....</td>\n",
       "      <td>2017-03-13 00:02:41</td>\n",
       "      <td>2017-03-13 02:51:53</td>\n",
       "      <td>02:49:12</td>\n",
       "    </tr>\n",
       "    <tr>\n",
       "      <th>410</th>\n",
       "      <td>[[60.0, 3, 0.023699999999999003], [60.0, 1, 0....</td>\n",
       "      <td>2017-02-03 22:58:28</td>\n",
       "      <td>2017-02-04 01:37:04</td>\n",
       "      <td>02:38:36</td>\n",
       "    </tr>\n",
       "  </tbody>\n",
       "</table>\n",
       "</div>"
      ],
      "text/plain": [
       "                                                events               start  \\\n",
       "66   [[60.0, 1, 0.057799999999999005], [60.0, 3, 0.... 2018-01-25 01:13:29   \n",
       "67   [[60.0, 3, 0.003899999999999], [60.0, 1, 0.054... 2018-01-24 22:49:56   \n",
       "86   [[60.0, 1, 0.062399999999999005], [60.0, 3, 0.... 2018-01-07 03:14:30   \n",
       "339  [[60.0, 1, 0.068], [60.0, 3, 0.0178], [120.0, ... 2017-04-15 01:03:35   \n",
       "372  [[60.0, 1, 0.053199999999999005], [60.0, 3, 0.... 2017-03-13 00:02:41   \n",
       "410  [[60.0, 3, 0.023699999999999003], [60.0, 1, 0.... 2017-02-03 22:58:28   \n",
       "\n",
       "                   stop time_slept  \n",
       "66  2018-01-25 04:13:31   03:00:02  \n",
       "67  2018-01-25 01:06:58   02:17:02  \n",
       "86  2018-01-07 04:24:28   01:09:58  \n",
       "339 2017-04-15 02:22:44   01:19:09  \n",
       "372 2017-03-13 02:51:53   02:49:12  \n",
       "410 2017-02-04 01:37:04   02:38:36  "
      ]
     },
     "execution_count": 8,
     "metadata": {},
     "output_type": "execute_result"
    }
   ],
   "source": [
    "MAX_HOURS = 13\n",
    "MIN_HOURS = 4\n",
    "\n",
    "data[data['time_slept'].dt.total_seconds() > MAX_HOURS*60*60]\n",
    "data[data['time_slept'].dt.total_seconds() < MIN_HOURS*60*60]"
   ]
  },
  {
   "cell_type": "code",
   "execution_count": 9,
   "metadata": {},
   "outputs": [
    {
     "data": {
      "text/plain": [
       "<Figure size 2500x600 with 1 Axes>"
      ]
     },
     "metadata": {},
     "output_type": "display_data"
    }
   ],
   "source": [
    "from datetime import timedelta\n",
    "import matplotlib.pyplot as plt\n",
    "import matplotlib.cm as cm\n",
    "import numpy as np\n",
    "\n",
    "# Fill the width of a 1920x1080 screen when plotting the entire dataset\n",
    "plt.rcParams['figure.figsize'] = [25, 6]\n",
    "\n",
    "# Use FiveThirtyEight matplotlib theme\n",
    "plt.style.use('fivethirtyeight')\n",
    "\n",
    "# Calculate time went to bed, as a offset relative to 18:00\n",
    "went_to_bed = (data['start'].dt.hour + (data['start'].dt.second / 60) - 18) % 24\n",
    "\n",
    "# Decimal hours slept\n",
    "hours_slept = time_slept.dt.total_seconds() / (60 * 60)\n",
    "\n",
    "# Create colormap relative to hours slept\n",
    "norm = (hours_slept - hours_slept.min()) / hours_slept.max()\n",
    "cmap = cm.get_cmap()\n",
    "color_map = cmap(norm)\n",
    "\n",
    "# Bottom of barplot relative to 18:00, height relative to hours slept\n",
    "ax = plt.bar(data['start'].values, hours_slept, bottom=went_to_bed, width=1.125, color=color_map)\n",
    "\n",
    "xlabel = plt.xlabel('Date')\n",
    "ylabel = plt.ylabel('Time in bed')\n",
    "\n",
    "# Map ticks relative to 18:00\n",
    "yticks = plt.yticks((np.arange(2, 25, 2) - 18) % 24, (np.arange(2, 25, 2)))\n",
    "\n",
    "plt.show()"
   ]
  },
  {
   "cell_type": "markdown",
   "metadata": {},
   "source": [
    "## SleepSecure(TM) API exploration\n",
    "SleepSecure offers some API endpoints, which we will now explore:"
   ]
  },
  {
   "cell_type": "code",
   "execution_count": 12,
   "metadata": {},
   "outputs": [
    {
     "data": {
      "text/plain": [
       "{'alarm_mode': 0,\n",
       " 'graph': [[0, 93],\n",
       "  [1, 90.81128765555019],\n",
       "  [2, 93.81734869886975],\n",
       "  [3, 91.41718808493046],\n",
       "  [4, 90.92837130719435],\n",
       "  [5, 92.5407550380968],\n",
       "  [6, 91.60734079106012],\n",
       "  [7, 91.12688499322337],\n",
       "  [8, 95.31574993906199],\n",
       "  [9, 94.09838048195674],\n",
       "  [10, 93.70957160890873],\n",
       "  [11, 81.80254129400353],\n",
       "  [12, 68.4896960268396],\n",
       "  [13, 45.586008796386714],\n",
       "  [14, 31.10301542173655],\n",
       "  [15, 28.10611945666922],\n",
       "  [16, 34.98543473349164],\n",
       "  [17, 46.451946720300725],\n",
       "  [18, 59.693460356926956],\n",
       "  [19, 70.55689564047569],\n",
       "  [20, 74.7009226241703],\n",
       "  [21, 71.08870718979641],\n",
       "  [22, 60.45222278856013],\n",
       "  [23, 46.40947719680005],\n",
       "  [24, 31.402129813542178],\n",
       "  [25, 21.045342248048023],\n",
       "  [26, 14.70985225360291],\n",
       "  [27, 14.334175584309397],\n",
       "  [28, 22.97708325404308],\n",
       "  [29, 30.69983323389047],\n",
       "  [30, 39.8990105574951],\n",
       "  [31, 37.41060509691733],\n",
       "  [32, 27.678212537162523],\n",
       "  [33, 25.161529056154894],\n",
       "  [34, 22.007572820509615],\n",
       "  [35, 27.596682389318346],\n",
       "  [36, 38.36885571587172],\n",
       "  [37, 38.663634064336904],\n",
       "  [38, 38.85017040203844],\n",
       "  [39, 37.82243987262458],\n",
       "  [40, 44.223156504284276],\n",
       "  [41, 61.28659677046029],\n",
       "  [42, 72.92140180230477],\n",
       "  [43, 79.78919177702333],\n",
       "  [44, 77.57072969070843],\n",
       "  [45, 70.58814740106999],\n",
       "  [46, 62.44818263452269],\n",
       "  [47, 55.86739484095119],\n",
       "  [48, 50.67310648624633],\n",
       "  [49, 47.68889255954934],\n",
       "  [50, 36.808593275054385],\n",
       "  [51, 30.814547813467573],\n",
       "  [52, 17.710732028159043],\n",
       "  [53, 12.794510919452215],\n",
       "  [54, 5.811444492805679],\n",
       "  [55, 6.007324130686949],\n",
       "  [56, 5.026173662017484],\n",
       "  [57, 6.557453101764977],\n",
       "  [58, 4.8309685094868495],\n",
       "  [59, 5.234109681137994],\n",
       "  [60, 3.2706808435005543],\n",
       "  [61, 6.994797458386436],\n",
       "  [62, 7.313905367546675],\n",
       "  [63, 8.824091550353408],\n",
       "  [64, 17.647012347229573],\n",
       "  [65, 29.672657216097992],\n",
       "  [66, 53.85500405940512],\n",
       "  [67, 74.64132732100997],\n",
       "  [68, 92.95664605493847],\n",
       "  [69, 92.86576807248227],\n",
       "  [70, 78.73198086469102],\n",
       "  [71, 50.709602995733746],\n",
       "  [72, 32.26525074492274],\n",
       "  [73, 16.309420698904653],\n",
       "  [74, 9.009285200535068],\n",
       "  [75, 11.404289591693484],\n",
       "  [76, 17.075978671114818],\n",
       "  [77, 25.813312893324614],\n",
       "  [78, 33.22085830992392],\n",
       "  [79, 36.247477039521826],\n",
       "  [80, 34.73549433802178],\n",
       "  [81, 30.265902874440776],\n",
       "  [82, 31.778701515866555],\n",
       "  [83, 31.842316616322393],\n",
       "  [84, 39.16322519217414],\n",
       "  [85, 36.768538334991],\n",
       "  [86, 32.55645149075987],\n",
       "  [87, 24.56323686368406],\n",
       "  [88, 16.587803901322275],\n",
       "  [89, 10.691784416071357],\n",
       "  [90, 16.323021287893017],\n",
       "  [91, 23.97200897547678],\n",
       "  [92, 31.09077050042535],\n",
       "  [93, 38.49117852569216],\n",
       "  [94, 42.23584758277692],\n",
       "  [95, 51.04972430903695],\n",
       "  [96, 75.73899037688588],\n",
       "  [97, 87.03664008494238],\n",
       "  [98, 94.83188114722795],\n",
       "  [99, 89.35514814042398],\n",
       "  [100, 90.80639568410652]],\n",
       " 'graph_date': 'Monday 14-15 Dec, 2015',\n",
       " 'graph_inbed': '23:11 - 07:26',\n",
       " 'graph_tib': '8:14',\n",
       " 'heartrate': 'n/a',\n",
       " 'id': 5029422020165632,\n",
       " 'rating': 0,\n",
       " 'seconds_from_gmt': 3600,\n",
       " 'sleep_notes': 'n/a',\n",
       " 'start_global': '2015-12-14T22:11:58',\n",
       " 'start_local': '2015-12-14T23:11:58',\n",
       " 'start_tick': 471823918.51976,\n",
       " 'start_tick_tz': 'Europe/Oslo',\n",
       " 'state_mode': 2,\n",
       " 'stats_duration': 29648.53155601025,\n",
       " 'stats_mph': 2.886112911140542,\n",
       " 'stats_sol': 0.0,\n",
       " 'stats_sq': 0.9150303793458198,\n",
       " 'stats_version': 1,\n",
       " 'stats_wakeups': 0,\n",
       " 'steps': '4261 steps',\n",
       " 'stop_global': '2015-12-15T06:26:07',\n",
       " 'stop_local': '2015-12-15T07:26:07',\n",
       " 'stop_tick': 471853567.051316,\n",
       " 'stop_tick_tz': 'Europe/Oslo',\n",
       " 'window_offset_start': '2015-12-15T07:25:00',\n",
       " 'window_offset_stop': '2015-12-15T07:25:00',\n",
       " 'window_start': '2015-12-15T07:25:00',\n",
       " 'window_stop': '2015-12-15T07:25:00',\n",
       " 'xaxis': [[9.916017403622382, '00'],\n",
       "  [22.05807953050693, '01'],\n",
       "  [34.200141657391484, '02'],\n",
       "  [46.34220378427603, '03'],\n",
       "  [58.48426591116058, '04'],\n",
       "  [70.62632803804513, '05'],\n",
       "  [82.76839016492968, '06'],\n",
       "  [94.91045229181422, '07'],\n",
       "  [107.05251441869878, '08']]}"
      ]
     },
     "execution_count": 12,
     "metadata": {},
     "output_type": "execute_result"
    }
   ],
   "source": [
    "sc.fetch(endpoint='/stat/session', params={'id': '5718148320854016', 'next': '1'})"
   ]
  },
  {
   "cell_type": "code",
   "execution_count": null,
   "metadata": {},
   "outputs": [],
   "source": []
  }
 ],
 "metadata": {
  "kernelspec": {
   "display_name": "Python 3",
   "language": "python",
   "name": "python3"
  },
  "language_info": {
   "codemirror_mode": {
    "name": "ipython",
    "version": 3
   },
   "file_extension": ".py",
   "mimetype": "text/x-python",
   "name": "python",
   "nbconvert_exporter": "python",
   "pygments_lexer": "ipython3",
   "version": "3.6.4"
  }
 },
 "nbformat": 4,
 "nbformat_minor": 2
}
