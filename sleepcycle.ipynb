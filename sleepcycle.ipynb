{
 "cells": [
  {
   "cell_type": "markdown",
   "metadata": {},
   "source": [
    "# Analysis of SleepCycle(TM) data"
   ]
  },
  {
   "cell_type": "markdown",
   "metadata": {},
   "source": [
    "Let's start by enabling the display of *multiple* outputs from singel cells:"
   ]
  },
  {
   "cell_type": "code",
   "execution_count": 142,
   "metadata": {},
   "outputs": [],
   "source": [
    "# Allow multiple outputs in a single cell\n",
    "from IPython.core.interactiveshell import InteractiveShell\n",
    "InteractiveShell.ast_node_interactivity = \"all\""
   ]
  },
  {
   "cell_type": "markdown",
   "metadata": {},
   "source": [
    "We will also enable reloading of python modules when they are edited. This way we can change code in the ``quelf`` module, and see the changed behaviour without restarting the notebook:"
   ]
  },
  {
   "cell_type": "code",
   "execution_count": 143,
   "metadata": {},
   "outputs": [
    {
     "name": "stdout",
     "output_type": "stream",
     "text": [
      "The autoreload extension is already loaded. To reload it, use:\n",
      "  %reload_ext autoreload\n"
     ]
    }
   ],
   "source": [
    "%load_ext autoreload\n",
    "%autoreload 2"
   ]
  },
  {
   "cell_type": "markdown",
   "metadata": {},
   "source": [
    "We will download the data which is available from the \"export\" button on SleepSecure(TM). This might take a while the first time, as the data is downloaded from a *relatively* slow server:"
   ]
  },
  {
   "cell_type": "code",
   "execution_count": 144,
   "metadata": {},
   "outputs": [],
   "source": [
    "from quelf.sleepcycle import SleepCycle\n",
    "\n",
    "sc = SleepCycle()\n",
    "data = sc.data"
   ]
  },
  {
   "cell_type": "markdown",
   "metadata": {},
   "source": [
    "How many \"sleep sessions\" have we in our dataset?"
   ]
  },
  {
   "cell_type": "code",
   "execution_count": 145,
   "metadata": {},
   "outputs": [
    {
     "data": {
      "text/plain": [
       "820"
      ]
     },
     "execution_count": 145,
     "metadata": {},
     "output_type": "execute_result"
    }
   ],
   "source": [
    "len(data)"
   ]
  },
  {
   "cell_type": "markdown",
   "metadata": {},
   "source": [
    "What columns (fields) does our data consist of?"
   ]
  },
  {
   "cell_type": "code",
   "execution_count": 146,
   "metadata": {},
   "outputs": [
    {
     "data": {
      "text/plain": [
       "Index(['events', 'start', 'stop'], dtype='object')"
      ]
     },
     "execution_count": 146,
     "metadata": {},
     "output_type": "execute_result"
    }
   ],
   "source": [
    "data.columns"
   ]
  },
  {
   "cell_type": "markdown",
   "metadata": {},
   "source": [
    "What does our most recent data point look like?"
   ]
  },
  {
   "cell_type": "code",
   "execution_count": 147,
   "metadata": {},
   "outputs": [
    {
     "data": {
      "text/plain": [
       "events    [[60.0, 3, 0.11230000000000001], [60.0, 1, 0.0...\n",
       "start                                   2018-03-31 01:09:58\n",
       "stop                                    2018-03-31 09:03:21\n",
       "Name: 0, dtype: object"
      ]
     },
     "execution_count": 147,
     "metadata": {},
     "output_type": "execute_result"
    }
   ],
   "source": [
    "data.loc[0]"
   ]
  },
  {
   "cell_type": "markdown",
   "metadata": {},
   "source": [
    "## Data processing\n",
    "Now we have the raw data, but we should process it a little before analyzing it. Let's calculate how long each sleep session lasts:"
   ]
  },
  {
   "cell_type": "code",
   "execution_count": 148,
   "metadata": {},
   "outputs": [
    {
     "data": {
      "text/plain": [
       "count                       820\n",
       "mean     0 days 08:48:10.129268\n",
       "std      0 days 01:22:09.785122\n",
       "min             0 days 01:09:58\n",
       "25%      0 days 08:06:46.750000\n",
       "50%      0 days 08:36:09.500000\n",
       "75%      0 days 09:25:50.750000\n",
       "max             0 days 14:20:10\n",
       "dtype: object"
      ]
     },
     "execution_count": 148,
     "metadata": {},
     "output_type": "execute_result"
    }
   ],
   "source": [
    "time_slept = data['stop'] - data['start']\n",
    "data['time_slept'] = time_slept\n",
    "time_slept.describe()"
   ]
  },
  {
   "cell_type": "markdown",
   "metadata": {},
   "source": [
    "#### Outlier detection\n",
    "The dataset might contain some outliers. We will print the rows with the most extreme sleep durations. If these maximum and/or minimum values look incorrect to you, you might want to delete the datapoints from the SleepCycle app, delete the contents of the ``./data`` sub-directory, and rerun this notebook."
   ]
  },
  {
   "cell_type": "code",
   "execution_count": 149,
   "metadata": {},
   "outputs": [
    {
     "data": {
      "text/html": [
       "<div>\n",
       "<style scoped>\n",
       "    .dataframe tbody tr th:only-of-type {\n",
       "        vertical-align: middle;\n",
       "    }\n",
       "\n",
       "    .dataframe tbody tr th {\n",
       "        vertical-align: top;\n",
       "    }\n",
       "\n",
       "    .dataframe thead th {\n",
       "        text-align: right;\n",
       "    }\n",
       "</style>\n",
       "<table border=\"1\" class=\"dataframe\">\n",
       "  <thead>\n",
       "    <tr style=\"text-align: right;\">\n",
       "      <th></th>\n",
       "      <th>events</th>\n",
       "      <th>start</th>\n",
       "      <th>stop</th>\n",
       "      <th>time_slept</th>\n",
       "    </tr>\n",
       "  </thead>\n",
       "  <tbody>\n",
       "    <tr>\n",
       "      <th>178</th>\n",
       "      <td>[[60.0, 3, 0.3593], [60.0, 1, 0.53549999999999...</td>\n",
       "      <td>2017-09-30 01:42:30</td>\n",
       "      <td>2017-09-30 16:02:40</td>\n",
       "      <td>14:20:10</td>\n",
       "    </tr>\n",
       "  </tbody>\n",
       "</table>\n",
       "</div>"
      ],
      "text/plain": [
       "                                                events               start  \\\n",
       "178  [[60.0, 3, 0.3593], [60.0, 1, 0.53549999999999... 2017-09-30 01:42:30   \n",
       "\n",
       "                   stop time_slept  \n",
       "178 2017-09-30 16:02:40   14:20:10  "
      ]
     },
     "execution_count": 149,
     "metadata": {},
     "output_type": "execute_result"
    },
    {
     "data": {
      "text/html": [
       "<div>\n",
       "<style scoped>\n",
       "    .dataframe tbody tr th:only-of-type {\n",
       "        vertical-align: middle;\n",
       "    }\n",
       "\n",
       "    .dataframe tbody tr th {\n",
       "        vertical-align: top;\n",
       "    }\n",
       "\n",
       "    .dataframe thead th {\n",
       "        text-align: right;\n",
       "    }\n",
       "</style>\n",
       "<table border=\"1\" class=\"dataframe\">\n",
       "  <thead>\n",
       "    <tr style=\"text-align: right;\">\n",
       "      <th></th>\n",
       "      <th>events</th>\n",
       "      <th>start</th>\n",
       "      <th>stop</th>\n",
       "      <th>time_slept</th>\n",
       "    </tr>\n",
       "  </thead>\n",
       "  <tbody>\n",
       "    <tr>\n",
       "      <th>86</th>\n",
       "      <td>[[60.0, 1, 0.062399999999999005], [60.0, 3, 0....</td>\n",
       "      <td>2018-01-07 03:14:30</td>\n",
       "      <td>2018-01-07 04:24:28</td>\n",
       "      <td>01:09:58</td>\n",
       "    </tr>\n",
       "  </tbody>\n",
       "</table>\n",
       "</div>"
      ],
      "text/plain": [
       "                                               events               start  \\\n",
       "86  [[60.0, 1, 0.062399999999999005], [60.0, 3, 0.... 2018-01-07 03:14:30   \n",
       "\n",
       "                  stop time_slept  \n",
       "86 2018-01-07 04:24:28   01:09:58  "
      ]
     },
     "execution_count": 149,
     "metadata": {},
     "output_type": "execute_result"
    }
   ],
   "source": [
    "# Show the maximum and minimum time slept, and on which date they occur\n",
    "data[data['time_slept'] == data['time_slept'].max()]\n",
    "data[data['time_slept'] == data['time_slept'].min()]"
   ]
  },
  {
   "cell_type": "markdown",
   "metadata": {},
   "source": [
    "Set ``MAX_HOURS`` and ``MIN_HOURS`` to a value which could indicate something being wrongly recorded into SleepCycle. Delete unwanted sleep sessions from the sleep cycle app."
   ]
  },
  {
   "cell_type": "code",
   "execution_count": 150,
   "metadata": {},
   "outputs": [
    {
     "data": {
      "text/html": [
       "<div>\n",
       "<style scoped>\n",
       "    .dataframe tbody tr th:only-of-type {\n",
       "        vertical-align: middle;\n",
       "    }\n",
       "\n",
       "    .dataframe tbody tr th {\n",
       "        vertical-align: top;\n",
       "    }\n",
       "\n",
       "    .dataframe thead th {\n",
       "        text-align: right;\n",
       "    }\n",
       "</style>\n",
       "<table border=\"1\" class=\"dataframe\">\n",
       "  <thead>\n",
       "    <tr style=\"text-align: right;\">\n",
       "      <th></th>\n",
       "      <th>events</th>\n",
       "      <th>start</th>\n",
       "      <th>stop</th>\n",
       "      <th>time_slept</th>\n",
       "    </tr>\n",
       "  </thead>\n",
       "  <tbody>\n",
       "    <tr>\n",
       "      <th>178</th>\n",
       "      <td>[[60.0, 3, 0.3593], [60.0, 1, 0.53549999999999...</td>\n",
       "      <td>2017-09-30 01:42:30</td>\n",
       "      <td>2017-09-30 16:02:40</td>\n",
       "      <td>14:20:10</td>\n",
       "    </tr>\n",
       "    <tr>\n",
       "      <th>291</th>\n",
       "      <td>[[60.0, 1, 0.0454], [60.0, 3, 0.0086], [120.0,...</td>\n",
       "      <td>2017-06-03 00:22:45</td>\n",
       "      <td>2017-06-03 13:32:00</td>\n",
       "      <td>13:09:15</td>\n",
       "    </tr>\n",
       "    <tr>\n",
       "      <th>353</th>\n",
       "      <td>[[60.0, 1, 0.047399999999999005], [60.0, 3, 0....</td>\n",
       "      <td>2017-04-01 01:11:42</td>\n",
       "      <td>2017-04-01 14:44:52</td>\n",
       "      <td>13:33:10</td>\n",
       "    </tr>\n",
       "    <tr>\n",
       "      <th>442</th>\n",
       "      <td>[[60.0, 3, 0.0018000000000000002], [60.0, 1, 0...</td>\n",
       "      <td>2017-01-03 01:25:44</td>\n",
       "      <td>2017-01-03 14:30:02</td>\n",
       "      <td>13:04:18</td>\n",
       "    </tr>\n",
       "    <tr>\n",
       "      <th>571</th>\n",
       "      <td>[[60.0, 3, 0.010400000000000001], [60.0, 1, 0....</td>\n",
       "      <td>2016-08-26 00:50:44</td>\n",
       "      <td>2016-08-26 15:03:34</td>\n",
       "      <td>14:12:50</td>\n",
       "    </tr>\n",
       "    <tr>\n",
       "      <th>788</th>\n",
       "      <td>[[60.0, 1, 0.06419999999999901], [120.0, 1, 0....</td>\n",
       "      <td>2016-01-14 21:43:36</td>\n",
       "      <td>2016-01-15 11:27:13</td>\n",
       "      <td>13:43:37</td>\n",
       "    </tr>\n",
       "  </tbody>\n",
       "</table>\n",
       "</div>"
      ],
      "text/plain": [
       "                                                events               start  \\\n",
       "178  [[60.0, 3, 0.3593], [60.0, 1, 0.53549999999999... 2017-09-30 01:42:30   \n",
       "291  [[60.0, 1, 0.0454], [60.0, 3, 0.0086], [120.0,... 2017-06-03 00:22:45   \n",
       "353  [[60.0, 1, 0.047399999999999005], [60.0, 3, 0.... 2017-04-01 01:11:42   \n",
       "442  [[60.0, 3, 0.0018000000000000002], [60.0, 1, 0... 2017-01-03 01:25:44   \n",
       "571  [[60.0, 3, 0.010400000000000001], [60.0, 1, 0.... 2016-08-26 00:50:44   \n",
       "788  [[60.0, 1, 0.06419999999999901], [120.0, 1, 0.... 2016-01-14 21:43:36   \n",
       "\n",
       "                   stop time_slept  \n",
       "178 2017-09-30 16:02:40   14:20:10  \n",
       "291 2017-06-03 13:32:00   13:09:15  \n",
       "353 2017-04-01 14:44:52   13:33:10  \n",
       "442 2017-01-03 14:30:02   13:04:18  \n",
       "571 2016-08-26 15:03:34   14:12:50  \n",
       "788 2016-01-15 11:27:13   13:43:37  "
      ]
     },
     "execution_count": 150,
     "metadata": {},
     "output_type": "execute_result"
    },
    {
     "data": {
      "text/html": [
       "<div>\n",
       "<style scoped>\n",
       "    .dataframe tbody tr th:only-of-type {\n",
       "        vertical-align: middle;\n",
       "    }\n",
       "\n",
       "    .dataframe tbody tr th {\n",
       "        vertical-align: top;\n",
       "    }\n",
       "\n",
       "    .dataframe thead th {\n",
       "        text-align: right;\n",
       "    }\n",
       "</style>\n",
       "<table border=\"1\" class=\"dataframe\">\n",
       "  <thead>\n",
       "    <tr style=\"text-align: right;\">\n",
       "      <th></th>\n",
       "      <th>events</th>\n",
       "      <th>start</th>\n",
       "      <th>stop</th>\n",
       "      <th>time_slept</th>\n",
       "    </tr>\n",
       "  </thead>\n",
       "  <tbody>\n",
       "    <tr>\n",
       "      <th>66</th>\n",
       "      <td>[[60.0, 1, 0.057799999999999005], [60.0, 3, 0....</td>\n",
       "      <td>2018-01-25 01:13:29</td>\n",
       "      <td>2018-01-25 04:13:31</td>\n",
       "      <td>03:00:02</td>\n",
       "    </tr>\n",
       "    <tr>\n",
       "      <th>67</th>\n",
       "      <td>[[60.0, 3, 0.003899999999999], [60.0, 1, 0.054...</td>\n",
       "      <td>2018-01-24 22:49:56</td>\n",
       "      <td>2018-01-25 01:06:58</td>\n",
       "      <td>02:17:02</td>\n",
       "    </tr>\n",
       "    <tr>\n",
       "      <th>86</th>\n",
       "      <td>[[60.0, 1, 0.062399999999999005], [60.0, 3, 0....</td>\n",
       "      <td>2018-01-07 03:14:30</td>\n",
       "      <td>2018-01-07 04:24:28</td>\n",
       "      <td>01:09:58</td>\n",
       "    </tr>\n",
       "    <tr>\n",
       "      <th>339</th>\n",
       "      <td>[[60.0, 1, 0.068], [60.0, 3, 0.0178], [120.0, ...</td>\n",
       "      <td>2017-04-15 01:03:35</td>\n",
       "      <td>2017-04-15 02:22:44</td>\n",
       "      <td>01:19:09</td>\n",
       "    </tr>\n",
       "    <tr>\n",
       "      <th>372</th>\n",
       "      <td>[[60.0, 1, 0.053199999999999005], [60.0, 3, 0....</td>\n",
       "      <td>2017-03-13 00:02:41</td>\n",
       "      <td>2017-03-13 02:51:53</td>\n",
       "      <td>02:49:12</td>\n",
       "    </tr>\n",
       "    <tr>\n",
       "      <th>410</th>\n",
       "      <td>[[60.0, 3, 0.023699999999999003], [60.0, 1, 0....</td>\n",
       "      <td>2017-02-03 22:58:28</td>\n",
       "      <td>2017-02-04 01:37:04</td>\n",
       "      <td>02:38:36</td>\n",
       "    </tr>\n",
       "  </tbody>\n",
       "</table>\n",
       "</div>"
      ],
      "text/plain": [
       "                                                events               start  \\\n",
       "66   [[60.0, 1, 0.057799999999999005], [60.0, 3, 0.... 2018-01-25 01:13:29   \n",
       "67   [[60.0, 3, 0.003899999999999], [60.0, 1, 0.054... 2018-01-24 22:49:56   \n",
       "86   [[60.0, 1, 0.062399999999999005], [60.0, 3, 0.... 2018-01-07 03:14:30   \n",
       "339  [[60.0, 1, 0.068], [60.0, 3, 0.0178], [120.0, ... 2017-04-15 01:03:35   \n",
       "372  [[60.0, 1, 0.053199999999999005], [60.0, 3, 0.... 2017-03-13 00:02:41   \n",
       "410  [[60.0, 3, 0.023699999999999003], [60.0, 1, 0.... 2017-02-03 22:58:28   \n",
       "\n",
       "                   stop time_slept  \n",
       "66  2018-01-25 04:13:31   03:00:02  \n",
       "67  2018-01-25 01:06:58   02:17:02  \n",
       "86  2018-01-07 04:24:28   01:09:58  \n",
       "339 2017-04-15 02:22:44   01:19:09  \n",
       "372 2017-03-13 02:51:53   02:49:12  \n",
       "410 2017-02-04 01:37:04   02:38:36  "
      ]
     },
     "execution_count": 150,
     "metadata": {},
     "output_type": "execute_result"
    }
   ],
   "source": [
    "MAX_HOURS = 13\n",
    "MIN_HOURS = 4\n",
    "\n",
    "data[data['time_slept'].dt.total_seconds() > MAX_HOURS*60*60]\n",
    "data[data['time_slept'].dt.total_seconds() < MIN_HOURS*60*60]"
   ]
  },
  {
   "cell_type": "markdown",
   "metadata": {},
   "source": [
    "## Plotting\n",
    "Now that we have processed the data, we will try to plot sleep sessions bar plots as function of time.\n",
    "The height should be relative to the sleep *duration*, and the bottom of each bar should show *when* you went to bed.\n",
    "Finally, we can color each bar relative to how *long* each sleep session lasted.\n",
    "This should result in a plot which can show sleep trends over time."
   ]
  },
  {
   "cell_type": "code",
   "execution_count": 151,
   "metadata": {},
   "outputs": [
    {
     "data": {
      "image/png": "[encoded data removed]",
      "text/plain": [
       "<Figure size 1800x432 with 1 Axes>"
      ]
     },
     "metadata": {},
     "output_type": "display_data"
    }
   ],
   "source": [
    "from datetime import timedelta\n",
    "import matplotlib.pyplot as plt\n",
    "import matplotlib.cm as cm\n",
    "import numpy as np\n",
    "\n",
    "# Fill the width of a 1920x1080 screen when plotting the entire dataset\n",
    "plt.rcParams['figure.figsize'] = [25, 6]\n",
    "\n",
    "# Use FiveThirtyEight matplotlib theme\n",
    "plt.style.use('fivethirtyeight')\n",
    "\n",
    "# Calculate time went to bed, as a offset relative to 18:00\n",
    "went_to_bed = (data['start'].dt.hour + (data['start'].dt.second / 60) - 18) % 24\n",
    "\n",
    "# Decimal hours slept\n",
    "hours_slept = time_slept.dt.total_seconds() / (60 * 60)\n",
    "\n",
    "# Create colormap relative to hours slept\n",
    "norm = (hours_slept - hours_slept.min()) / hours_slept.max()\n",
    "cmap = cm.get_cmap()\n",
    "color_map = cmap(norm)\n",
    "\n",
    "# Bottom of barplot relative to 18:00, height relative to hours slept\n",
    "ax = plt.bar(data['start'].values, hours_slept, bottom=went_to_bed, width=1.125, color=color_map)\n",
    "\n",
    "xlabel = plt.xlabel('Date')\n",
    "ylabel = plt.ylabel('Time of day in 24h format')\n",
    "\n",
    "# Map ticks relative to 18:00\n",
    "yticks = plt.yticks((np.arange(2, 25, 2) - 18) % 24, (np.arange(2, 25, 2)))\n",
    "\n",
    "plt.show()"
   ]
  },
  {
   "cell_type": "markdown",
   "metadata": {},
   "source": [
    "## SleepSecure(TM) API exploration\n",
    "SleepCycle allows you to track much more than just sleep session, such as sleep quality, sleep notes, mood after waking up, and daily steps. SleepSecure offers some additional API endpoints. In particular, the ``/stat/session`` endpoint is of interest, as it offers much more fields related to each \"sleep session\". Here are all the available fields for each sleep session:"
   ]
  },
  {
   "cell_type": "code",
   "execution_count": 152,
   "metadata": {},
   "outputs": [
    {
     "data": {
      "text/plain": [
       "dict_keys(['rating', 'heartrate', 'graph_date', 'stop_tick_tz', 'start_tick_tz', 'window_offset_stop', 'stop_tick', 'start_global', 'id', 'window_start', 'window_offset_start', 'stop_global', 'stop_local', 'stats_version', 'sleep_notes', 'graph', 'stats_sq', 'seconds_from_gmt', 'alarm_mode', 'xaxis', 'graph_tib', 'start_tick', 'stats_wakeups', 'stats_duration', 'stats_sol', 'stats_mph', 'window_stop', 'state_mode', 'graph_inbed', 'steps', 'start_local'])"
      ]
     },
     "execution_count": 152,
     "metadata": {},
     "output_type": "execute_result"
    }
   ],
   "source": [
    "sc.fetch(endpoint='/stat/session', params={'id': '5718148320854016', 'next': '1'}).keys()"
   ]
  },
  {
   "cell_type": "markdown",
   "metadata": {},
   "source": [
    "Since I have not found any endpoint which is able to dump *all* of the sleepsessions at once, we have to iterate over each sleep session and download the JSON seperately. In order to not pound the SleepSecure API with requests, the results are cached. This also saves quite some time, as updates are cheaper when you rerun this notebook after having logged new sleep sessions in the future. In order to clear the cache entirely, delete ``data/sleep_sessions.json``. The API rate delivers approximately 50 sleep sessions per minute.\n",
    "\n",
    "Let's download all new data and cache it:"
   ]
  },
  {
   "cell_type": "code",
   "execution_count": 153,
   "metadata": {},
   "outputs": [],
   "source": [
    "sc.update_sleep_sessions_cache()"
   ]
  },
  {
   "cell_type": "markdown",
   "metadata": {},
   "source": [
    "We now have all the detailed data which SleepCycle records. All the numeric data can be summarized:"
   ]
  },
  {
   "cell_type": "code",
   "execution_count": 154,
   "metadata": {},
   "outputs": [
    {
     "data": {
      "text/html": [
       "<div>\n",
       "<style scoped>\n",
       "    .dataframe tbody tr th:only-of-type {\n",
       "        vertical-align: middle;\n",
       "    }\n",
       "\n",
       "    .dataframe tbody tr th {\n",
       "        vertical-align: top;\n",
       "    }\n",
       "\n",
       "    .dataframe thead th {\n",
       "        text-align: right;\n",
       "    }\n",
       "</style>\n",
       "<table border=\"1\" class=\"dataframe\">\n",
       "  <thead>\n",
       "    <tr style=\"text-align: right;\">\n",
       "      <th></th>\n",
       "      <th>alarm_mode</th>\n",
       "      <th>id</th>\n",
       "      <th>rating</th>\n",
       "      <th>seconds_from_gmt</th>\n",
       "      <th>start_tick</th>\n",
       "      <th>state_mode</th>\n",
       "      <th>stats_duration</th>\n",
       "      <th>stats_mph</th>\n",
       "      <th>stats_sol</th>\n",
       "      <th>stats_sq</th>\n",
       "      <th>stats_version</th>\n",
       "      <th>stats_wakeups</th>\n",
       "      <th>stop_tick</th>\n",
       "    </tr>\n",
       "  </thead>\n",
       "  <tbody>\n",
       "    <tr>\n",
       "      <th>count</th>\n",
       "      <td>823.000000</td>\n",
       "      <td>8.230000e+02</td>\n",
       "      <td>823.000000</td>\n",
       "      <td>823.000000</td>\n",
       "      <td>8.230000e+02</td>\n",
       "      <td>823.000000</td>\n",
       "      <td>823.000000</td>\n",
       "      <td>823.000000</td>\n",
       "      <td>823.0</td>\n",
       "      <td>823.000000</td>\n",
       "      <td>823.0</td>\n",
       "      <td>823.0</td>\n",
       "      <td>8.230000e+02</td>\n",
       "    </tr>\n",
       "    <tr>\n",
       "      <th>mean</th>\n",
       "      <td>0.758202</td>\n",
       "      <td>5.623340e+15</td>\n",
       "      <td>1.996355</td>\n",
       "      <td>5485.297691</td>\n",
       "      <td>5.081490e+08</td>\n",
       "      <td>1.997570</td>\n",
       "      <td>31680.189844</td>\n",
       "      <td>66.974574</td>\n",
       "      <td>0.0</td>\n",
       "      <td>0.856802</td>\n",
       "      <td>1.0</td>\n",
       "      <td>0.0</td>\n",
       "      <td>5.081807e+08</td>\n",
       "    </tr>\n",
       "    <tr>\n",
       "      <th>std</th>\n",
       "      <td>0.428433</td>\n",
       "      <td>6.480971e+14</td>\n",
       "      <td>0.867772</td>\n",
       "      <td>1799.071165</td>\n",
       "      <td>2.096072e+07</td>\n",
       "      <td>0.049266</td>\n",
       "      <td>4938.489546</td>\n",
       "      <td>28.442557</td>\n",
       "      <td>0.0</td>\n",
       "      <td>0.123959</td>\n",
       "      <td>0.0</td>\n",
       "      <td>0.0</td>\n",
       "      <td>2.096061e+07</td>\n",
       "    </tr>\n",
       "    <tr>\n",
       "      <th>min</th>\n",
       "      <td>0.000000</td>\n",
       "      <td>4.508087e+15</td>\n",
       "      <td>0.000000</td>\n",
       "      <td>3600.000000</td>\n",
       "      <td>4.717364e+08</td>\n",
       "      <td>1.000000</td>\n",
       "      <td>4197.997952</td>\n",
       "      <td>0.001000</td>\n",
       "      <td>0.0</td>\n",
       "      <td>0.115266</td>\n",
       "      <td>1.0</td>\n",
       "      <td>0.0</td>\n",
       "      <td>4.717671e+08</td>\n",
       "    </tr>\n",
       "    <tr>\n",
       "      <th>25%</th>\n",
       "      <td>1.000000</td>\n",
       "      <td>5.057569e+15</td>\n",
       "      <td>2.000000</td>\n",
       "      <td>3600.000000</td>\n",
       "      <td>4.901907e+08</td>\n",
       "      <td>2.000000</td>\n",
       "      <td>29182.881260</td>\n",
       "      <td>47.128088</td>\n",
       "      <td>0.0</td>\n",
       "      <td>0.794597</td>\n",
       "      <td>1.0</td>\n",
       "      <td>0.0</td>\n",
       "      <td>4.902236e+08</td>\n",
       "    </tr>\n",
       "    <tr>\n",
       "      <th>50%</th>\n",
       "      <td>1.000000</td>\n",
       "      <td>5.641216e+15</td>\n",
       "      <td>2.000000</td>\n",
       "      <td>7200.000000</td>\n",
       "      <td>5.079471e+08</td>\n",
       "      <td>2.000000</td>\n",
       "      <td>30970.711912</td>\n",
       "      <td>63.493928</td>\n",
       "      <td>0.0</td>\n",
       "      <td>0.874402</td>\n",
       "      <td>1.0</td>\n",
       "      <td>0.0</td>\n",
       "      <td>5.079787e+08</td>\n",
       "    </tr>\n",
       "    <tr>\n",
       "      <th>75%</th>\n",
       "      <td>1.000000</td>\n",
       "      <td>6.164741e+15</td>\n",
       "      <td>3.000000</td>\n",
       "      <td>7200.000000</td>\n",
       "      <td>5.261352e+08</td>\n",
       "      <td>2.000000</td>\n",
       "      <td>33951.261144</td>\n",
       "      <td>83.694092</td>\n",
       "      <td>0.0</td>\n",
       "      <td>0.952257</td>\n",
       "      <td>1.0</td>\n",
       "      <td>0.0</td>\n",
       "      <td>5.261663e+08</td>\n",
       "    </tr>\n",
       "    <tr>\n",
       "      <th>max</th>\n",
       "      <td>1.000000</td>\n",
       "      <td>6.754870e+15</td>\n",
       "      <td>3.000000</td>\n",
       "      <td>7200.000000</td>\n",
       "      <td>5.443979e+08</td>\n",
       "      <td>2.000000</td>\n",
       "      <td>51610.789962</td>\n",
       "      <td>216.629218</td>\n",
       "      <td>0.0</td>\n",
       "      <td>1.000000</td>\n",
       "      <td>1.0</td>\n",
       "      <td>0.0</td>\n",
       "      <td>5.444426e+08</td>\n",
       "    </tr>\n",
       "  </tbody>\n",
       "</table>\n",
       "</div>"
      ],
      "text/plain": [
       "       alarm_mode            id      rating  seconds_from_gmt    start_tick  \\\n",
       "count  823.000000  8.230000e+02  823.000000        823.000000  8.230000e+02   \n",
       "mean     0.758202  5.623340e+15    1.996355       5485.297691  5.081490e+08   \n",
       "std      0.428433  6.480971e+14    0.867772       1799.071165  2.096072e+07   \n",
       "min      0.000000  4.508087e+15    0.000000       3600.000000  4.717364e+08   \n",
       "25%      1.000000  5.057569e+15    2.000000       3600.000000  4.901907e+08   \n",
       "50%      1.000000  5.641216e+15    2.000000       7200.000000  5.079471e+08   \n",
       "75%      1.000000  6.164741e+15    3.000000       7200.000000  5.261352e+08   \n",
       "max      1.000000  6.754870e+15    3.000000       7200.000000  5.443979e+08   \n",
       "\n",
       "       state_mode  stats_duration   stats_mph  stats_sol    stats_sq  \\\n",
       "count  823.000000      823.000000  823.000000      823.0  823.000000   \n",
       "mean     1.997570    31680.189844   66.974574        0.0    0.856802   \n",
       "std      0.049266     4938.489546   28.442557        0.0    0.123959   \n",
       "min      1.000000     4197.997952    0.001000        0.0    0.115266   \n",
       "25%      2.000000    29182.881260   47.128088        0.0    0.794597   \n",
       "50%      2.000000    30970.711912   63.493928        0.0    0.874402   \n",
       "75%      2.000000    33951.261144   83.694092        0.0    0.952257   \n",
       "max      2.000000    51610.789962  216.629218        0.0    1.000000   \n",
       "\n",
       "       stats_version  stats_wakeups     stop_tick  \n",
       "count          823.0          823.0  8.230000e+02  \n",
       "mean             1.0            0.0  5.081807e+08  \n",
       "std              0.0            0.0  2.096061e+07  \n",
       "min              1.0            0.0  4.717671e+08  \n",
       "25%              1.0            0.0  4.902236e+08  \n",
       "50%              1.0            0.0  5.079787e+08  \n",
       "75%              1.0            0.0  5.261663e+08  \n",
       "max              1.0            0.0  5.444426e+08  "
      ]
     },
     "execution_count": 154,
     "metadata": {},
     "output_type": "execute_result"
    }
   ],
   "source": [
    "sc.sleep_sessions.describe()"
   ]
  },
  {
   "cell_type": "markdown",
   "metadata": {},
   "source": [
    "Or, more specifically, a specific sleep session as an example which also shows non-numeric data:"
   ]
  },
  {
   "cell_type": "code",
   "execution_count": 155,
   "metadata": {},
   "outputs": [
    {
     "data": {
      "text/plain": [
       "alarm_mode                                                             1\n",
       "graph                  [[0, 93], [1, 70], [2, 42.963744904492344], [3...\n",
       "graph_date                                        Friday 30-31 Mar, 2018\n",
       "graph_inbed                                                01:09 - 09:03\n",
       "graph_tib                                                           7:53\n",
       "heartrate                                                            n/a\n",
       "id                                                      5856529698521088\n",
       "rating                                                                 2\n",
       "seconds_from_gmt                                                    7200\n",
       "sleep_notes                                    Drank coffee, Programming\n",
       "start_global                                         2018-03-30T23:09:58\n",
       "start_local                                          2018-03-31T01:09:58\n",
       "start_tick                                                   5.44144e+08\n",
       "start_tick_tz                                                Europe/Oslo\n",
       "state_mode                                                             2\n",
       "stats_duration                                                   28402.9\n",
       "stats_mph                                                        68.5158\n",
       "stats_sol                                                              0\n",
       "stats_sq                                                        0.816139\n",
       "stats_version                                                          1\n",
       "stats_wakeups                                                          0\n",
       "steps                                                         1644 steps\n",
       "stop_global                                          2018-03-31T07:03:21\n",
       "stop_local                                           2018-03-31T09:03:21\n",
       "stop_tick                                                    5.44173e+08\n",
       "stop_tick_tz                                                 Europe/Oslo\n",
       "window_offset_start                                  2001-01-01T01:00:00\n",
       "window_offset_stop                                   2001-01-01T01:00:00\n",
       "window_start                                         2001-01-01T01:00:00\n",
       "window_stop                                          2001-01-01T01:00:00\n",
       "xaxis                  [[10.773509840509805, 02], [23.448227299933105...\n",
       "Name: 819, dtype: object"
      ]
     },
     "execution_count": 155,
     "metadata": {},
     "output_type": "execute_result"
    }
   ],
   "source": [
    "sc.sleep_sessions.iloc[-4]"
   ]
  },
  {
   "cell_type": "markdown",
   "metadata": {},
   "source": [
    "## Data processing\n",
    "This data also requires some preprocessing before we are able to use it easily.\n",
    "First, let's convert the daily step count from the strings ``x steps`` to the integers ``x``:"
   ]
  },
  {
   "cell_type": "code",
   "execution_count": 156,
   "metadata": {},
   "outputs": [],
   "source": [
    "import re\n",
    "steps_pattern = re.compile(r'(\\d+) steps')\n",
    "sc.sleep_sessions['step_count'] = sc.sleep_sessions['steps'].apply(lambda steps_string: int(steps_pattern.search(steps_string)[1]))"
   ]
  },
  {
   "cell_type": "markdown",
   "metadata": {},
   "source": [
    "We should also specify that the column ``stats_duration`` indicates the number of seconds slept:"
   ]
  },
  {
   "cell_type": "code",
   "execution_count": 157,
   "metadata": {},
   "outputs": [],
   "source": [
    "sc.sleep_sessions['stats_duration'] = sc.sleep_sessions['stats_duration'].astype('timedelta64[s]')"
   ]
  },
  {
   "cell_type": "markdown",
   "metadata": {},
   "source": [
    "## Analysis\n",
    "The DataFrame is now properly preprocessed for analysis.\n",
    "We can begin by checking if there is any correlation between the daily step count, and the time slept that same day."
   ]
  },
  {
   "cell_type": "code",
   "execution_count": 158,
   "metadata": {},
   "outputs": [
    {
     "data": {
      "image/png": "[encoded data removed]",
      "text/plain": [
       "<Figure size 1800x432 with 1 Axes>"
      ]
     },
     "metadata": {},
     "output_type": "display_data"
    }
   ],
   "source": [
    "steps = sc.sleep_sessions['step_count']\n",
    "seconds_slept = sc.sleep_sessions['stats_duration']\n",
    "\n",
    "linfit = np.polyfit(steps, seconds_slept.astype('int'), 1)\n",
    "linfit_func = np.poly1d(linfit)\n",
    "\n",
    "scatter_plot = plt.plot(steps, seconds_slept, '.')\n",
    "fit_plot = plt.plot(steps, linfit_func(steps), '-', linewidth=1)\n",
    "\n",
    "xlab = plt.xlabel('Step count')\n",
    "ylab = plt.ylabel('Time slept')"
   ]
  },
  {
   "cell_type": "code",
   "execution_count": 159,
   "metadata": {},
   "outputs": [
    {
     "data": {
      "text/plain": [
       "-0.1000987884620032"
      ]
     },
     "execution_count": 159,
     "metadata": {},
     "output_type": "execute_result"
    }
   ],
   "source": [
    "seconds_slept.astype('int').corr(steps)"
   ]
  },
  {
   "cell_type": "code",
   "execution_count": 160,
   "metadata": {},
   "outputs": [
    {
     "data": {
      "text/plain": [
       "poly1d([-1.34069592e-01,  3.23650547e+04])"
      ]
     },
     "execution_count": 160,
     "metadata": {},
     "output_type": "execute_result"
    }
   ],
   "source": [
    "linfit_func"
   ]
  },
  {
   "cell_type": "code",
   "execution_count": 161,
   "metadata": {},
   "outputs": [
    {
     "data": {
      "image/png": "[encoded data removed]",
      "text/plain": [
       "<Figure size 1800x432 with 1 Axes>"
      ]
     },
     "metadata": {},
     "output_type": "display_data"
    }
   ],
   "source": [
    "sleep_quality_plot = plt.plot(sc.sleep_sessions['id'], sc.sleep_sessions['stats_sq'], '.')"
   ]
  }
 ],
 "metadata": {
  "kernelspec": {
   "display_name": "Python 3",
   "language": "python",
   "name": "python3"
  },
  "language_info": {
   "codemirror_mode": {
    "name": "ipython",
    "version": 3
   },
   "file_extension": ".py",
   "mimetype": "text/x-python",
   "name": "python",
   "nbconvert_exporter": "python",
   "pygments_lexer": "ipython3",
   "version": "3.6.4"
  }
 },
 "nbformat": 4,
 "nbformat_minor": 2
}
