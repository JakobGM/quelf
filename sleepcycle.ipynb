{
 "cells": [
  {
   "cell_type": "code",
   "execution_count": 156,
   "metadata": {},
   "outputs": [],
   "source": [
    "# Allow multiple outputs in a single cell\n",
    "from IPython.core.interactiveshell import InteractiveShell\n",
    "InteractiveShell.ast_node_interactivity = \"all\""
   ]
  },
  {
   "cell_type": "markdown",
   "metadata": {},
   "source": [
    "# Analysis of SleepCycle(TM) data\n",
    "\n",
    "Let's start by downloading the data from SleepSecure(TM). This might take a while the first time, as the data is downloaded from a *relatively* slow server:"
   ]
  },
  {
   "cell_type": "code",
   "execution_count": 157,
   "metadata": {},
   "outputs": [],
   "source": [
    "from quelf.sleepcycle import SleepCycle\n",
    "\n",
    "sc = SleepCycle()\n",
    "data = sc.data"
   ]
  },
  {
   "cell_type": "markdown",
   "metadata": {},
   "source": [
    "How large is our dataset?"
   ]
  },
  {
   "cell_type": "code",
   "execution_count": 158,
   "metadata": {},
   "outputs": [
    {
     "data": {
      "text/plain": [
       "820"
      ]
     },
     "execution_count": 158,
     "metadata": {},
     "output_type": "execute_result"
    }
   ],
   "source": [
    "len(data)"
   ]
  },
  {
   "cell_type": "markdown",
   "metadata": {},
   "source": [
    "What does our data consist of?"
   ]
  },
  {
   "cell_type": "code",
   "execution_count": 159,
   "metadata": {},
   "outputs": [
    {
     "data": {
      "text/plain": [
       "Index(['events', 'start', 'stop'], dtype='object')"
      ]
     },
     "execution_count": 159,
     "metadata": {},
     "output_type": "execute_result"
    }
   ],
   "source": [
    "data.columns"
   ]
  },
  {
   "cell_type": "markdown",
   "metadata": {},
   "source": [
    "What does our latest data point look like?"
   ]
  },
  {
   "cell_type": "code",
   "execution_count": 160,
   "metadata": {},
   "outputs": [
    {
     "data": {
      "text/plain": [
       "events    [[60.0, 3, 0.11230000000000001], [60.0, 1, 0.0...\n",
       "start                                   2018-03-31 01:09:58\n",
       "stop                                    2018-03-31 09:03:21\n",
       "Name: 0, dtype: object"
      ]
     },
     "execution_count": 160,
     "metadata": {},
     "output_type": "execute_result"
    }
   ],
   "source": [
    "data.loc[0]"
   ]
  },
  {
   "cell_type": "markdown",
   "metadata": {},
   "source": [
    "## Data processing\n",
    "Let's calculate how long each sleep recording lasts:"
   ]
  },
  {
   "cell_type": "code",
   "execution_count": 161,
   "metadata": {},
   "outputs": [
    {
     "data": {
      "text/plain": [
       "count                       820\n",
       "mean     0 days 08:48:10.129268\n",
       "std      0 days 01:22:09.785122\n",
       "min             0 days 01:09:58\n",
       "25%      0 days 08:06:46.750000\n",
       "50%      0 days 08:36:09.500000\n",
       "75%      0 days 09:25:50.750000\n",
       "max             0 days 14:20:10\n",
       "dtype: object"
      ]
     },
     "execution_count": 161,
     "metadata": {},
     "output_type": "execute_result"
    }
   ],
   "source": [
    "time_slept = data['stop'] - data['start']\n",
    "data['time_slept'] = time_slept\n",
    "time_slept.describe()"
   ]
  },
  {
   "cell_type": "markdown",
   "metadata": {},
   "source": [
    "#### Outlier detection\n",
    "The dataset might contain some outliers. If these maximum and/or minimum values look incorrect to you, you might want to delete the datapoints from the SleepCycle app, delete the contents of the ``data`` directory, and rerun the notebook."
   ]
  },
  {
   "cell_type": "code",
   "execution_count": 162,
   "metadata": {},
   "outputs": [
    {
     "data": {
      "text/html": [
       "<div>\n",
       "<style scoped>\n",
       "    .dataframe tbody tr th:only-of-type {\n",
       "        vertical-align: middle;\n",
       "    }\n",
       "\n",
       "    .dataframe tbody tr th {\n",
       "        vertical-align: top;\n",
       "    }\n",
       "\n",
       "    .dataframe thead th {\n",
       "        text-align: right;\n",
       "    }\n",
       "</style>\n",
       "<table border=\"1\" class=\"dataframe\">\n",
       "  <thead>\n",
       "    <tr style=\"text-align: right;\">\n",
       "      <th></th>\n",
       "      <th>events</th>\n",
       "      <th>start</th>\n",
       "      <th>stop</th>\n",
       "      <th>time_slept</th>\n",
       "    </tr>\n",
       "  </thead>\n",
       "  <tbody>\n",
       "    <tr>\n",
       "      <th>178</th>\n",
       "      <td>[[60.0, 3, 0.3593], [60.0, 1, 0.53549999999999...</td>\n",
       "      <td>2017-09-30 01:42:30</td>\n",
       "      <td>2017-09-30 16:02:40</td>\n",
       "      <td>14:20:10</td>\n",
       "    </tr>\n",
       "  </tbody>\n",
       "</table>\n",
       "</div>"
      ],
      "text/plain": [
       "                                                events               start  \\\n",
       "178  [[60.0, 3, 0.3593], [60.0, 1, 0.53549999999999... 2017-09-30 01:42:30   \n",
       "\n",
       "                   stop time_slept  \n",
       "178 2017-09-30 16:02:40   14:20:10  "
      ]
     },
     "execution_count": 162,
     "metadata": {},
     "output_type": "execute_result"
    },
    {
     "data": {
      "text/html": [
       "<div>\n",
       "<style scoped>\n",
       "    .dataframe tbody tr th:only-of-type {\n",
       "        vertical-align: middle;\n",
       "    }\n",
       "\n",
       "    .dataframe tbody tr th {\n",
       "        vertical-align: top;\n",
       "    }\n",
       "\n",
       "    .dataframe thead th {\n",
       "        text-align: right;\n",
       "    }\n",
       "</style>\n",
       "<table border=\"1\" class=\"dataframe\">\n",
       "  <thead>\n",
       "    <tr style=\"text-align: right;\">\n",
       "      <th></th>\n",
       "      <th>events</th>\n",
       "      <th>start</th>\n",
       "      <th>stop</th>\n",
       "      <th>time_slept</th>\n",
       "    </tr>\n",
       "  </thead>\n",
       "  <tbody>\n",
       "    <tr>\n",
       "      <th>86</th>\n",
       "      <td>[[60.0, 1, 0.062399999999999005], [60.0, 3, 0....</td>\n",
       "      <td>2018-01-07 03:14:30</td>\n",
       "      <td>2018-01-07 04:24:28</td>\n",
       "      <td>01:09:58</td>\n",
       "    </tr>\n",
       "  </tbody>\n",
       "</table>\n",
       "</div>"
      ],
      "text/plain": [
       "                                               events               start  \\\n",
       "86  [[60.0, 1, 0.062399999999999005], [60.0, 3, 0.... 2018-01-07 03:14:30   \n",
       "\n",
       "                  stop time_slept  \n",
       "86 2018-01-07 04:24:28   01:09:58  "
      ]
     },
     "execution_count": 162,
     "metadata": {},
     "output_type": "execute_result"
    }
   ],
   "source": [
    "# Show the maximum and minimum time slept, and on which date they occur\n",
    "data[data['time_slept'] == data['time_slept'].max()]\n",
    "data[data['time_slept'] == data['time_slept'].min()]"
   ]
  },
  {
   "cell_type": "markdown",
   "metadata": {},
   "source": [
    "Set ``MAX_HOURS`` and ``MIN_HOURS`` to a value which could indicate something being wrongly recorded into SleepCycle."
   ]
  },
  {
   "cell_type": "code",
   "execution_count": 163,
   "metadata": {},
   "outputs": [
    {
     "data": {
      "text/html": [
       "<div>\n",
       "<style scoped>\n",
       "    .dataframe tbody tr th:only-of-type {\n",
       "        vertical-align: middle;\n",
       "    }\n",
       "\n",
       "    .dataframe tbody tr th {\n",
       "        vertical-align: top;\n",
       "    }\n",
       "\n",
       "    .dataframe thead th {\n",
       "        text-align: right;\n",
       "    }\n",
       "</style>\n",
       "<table border=\"1\" class=\"dataframe\">\n",
       "  <thead>\n",
       "    <tr style=\"text-align: right;\">\n",
       "      <th></th>\n",
       "      <th>events</th>\n",
       "      <th>start</th>\n",
       "      <th>stop</th>\n",
       "      <th>time_slept</th>\n",
       "    </tr>\n",
       "  </thead>\n",
       "  <tbody>\n",
       "    <tr>\n",
       "      <th>178</th>\n",
       "      <td>[[60.0, 3, 0.3593], [60.0, 1, 0.53549999999999...</td>\n",
       "      <td>2017-09-30 01:42:30</td>\n",
       "      <td>2017-09-30 16:02:40</td>\n",
       "      <td>14:20:10</td>\n",
       "    </tr>\n",
       "    <tr>\n",
       "      <th>291</th>\n",
       "      <td>[[60.0, 1, 0.0454], [60.0, 3, 0.0086], [120.0,...</td>\n",
       "      <td>2017-06-03 00:22:45</td>\n",
       "      <td>2017-06-03 13:32:00</td>\n",
       "      <td>13:09:15</td>\n",
       "    </tr>\n",
       "    <tr>\n",
       "      <th>353</th>\n",
       "      <td>[[60.0, 1, 0.047399999999999005], [60.0, 3, 0....</td>\n",
       "      <td>2017-04-01 01:11:42</td>\n",
       "      <td>2017-04-01 14:44:52</td>\n",
       "      <td>13:33:10</td>\n",
       "    </tr>\n",
       "    <tr>\n",
       "      <th>442</th>\n",
       "      <td>[[60.0, 3, 0.0018000000000000002], [60.0, 1, 0...</td>\n",
       "      <td>2017-01-03 01:25:44</td>\n",
       "      <td>2017-01-03 14:30:02</td>\n",
       "      <td>13:04:18</td>\n",
       "    </tr>\n",
       "    <tr>\n",
       "      <th>571</th>\n",
       "      <td>[[60.0, 3, 0.010400000000000001], [60.0, 1, 0....</td>\n",
       "      <td>2016-08-26 00:50:44</td>\n",
       "      <td>2016-08-26 15:03:34</td>\n",
       "      <td>14:12:50</td>\n",
       "    </tr>\n",
       "    <tr>\n",
       "      <th>788</th>\n",
       "      <td>[[60.0, 1, 0.06419999999999901], [120.0, 1, 0....</td>\n",
       "      <td>2016-01-14 21:43:36</td>\n",
       "      <td>2016-01-15 11:27:13</td>\n",
       "      <td>13:43:37</td>\n",
       "    </tr>\n",
       "  </tbody>\n",
       "</table>\n",
       "</div>"
      ],
      "text/plain": [
       "                                                events               start  \\\n",
       "178  [[60.0, 3, 0.3593], [60.0, 1, 0.53549999999999... 2017-09-30 01:42:30   \n",
       "291  [[60.0, 1, 0.0454], [60.0, 3, 0.0086], [120.0,... 2017-06-03 00:22:45   \n",
       "353  [[60.0, 1, 0.047399999999999005], [60.0, 3, 0.... 2017-04-01 01:11:42   \n",
       "442  [[60.0, 3, 0.0018000000000000002], [60.0, 1, 0... 2017-01-03 01:25:44   \n",
       "571  [[60.0, 3, 0.010400000000000001], [60.0, 1, 0.... 2016-08-26 00:50:44   \n",
       "788  [[60.0, 1, 0.06419999999999901], [120.0, 1, 0.... 2016-01-14 21:43:36   \n",
       "\n",
       "                   stop time_slept  \n",
       "178 2017-09-30 16:02:40   14:20:10  \n",
       "291 2017-06-03 13:32:00   13:09:15  \n",
       "353 2017-04-01 14:44:52   13:33:10  \n",
       "442 2017-01-03 14:30:02   13:04:18  \n",
       "571 2016-08-26 15:03:34   14:12:50  \n",
       "788 2016-01-15 11:27:13   13:43:37  "
      ]
     },
     "execution_count": 163,
     "metadata": {},
     "output_type": "execute_result"
    },
    {
     "data": {
      "text/html": [
       "<div>\n",
       "<style scoped>\n",
       "    .dataframe tbody tr th:only-of-type {\n",
       "        vertical-align: middle;\n",
       "    }\n",
       "\n",
       "    .dataframe tbody tr th {\n",
       "        vertical-align: top;\n",
       "    }\n",
       "\n",
       "    .dataframe thead th {\n",
       "        text-align: right;\n",
       "    }\n",
       "</style>\n",
       "<table border=\"1\" class=\"dataframe\">\n",
       "  <thead>\n",
       "    <tr style=\"text-align: right;\">\n",
       "      <th></th>\n",
       "      <th>events</th>\n",
       "      <th>start</th>\n",
       "      <th>stop</th>\n",
       "      <th>time_slept</th>\n",
       "    </tr>\n",
       "  </thead>\n",
       "  <tbody>\n",
       "    <tr>\n",
       "      <th>66</th>\n",
       "      <td>[[60.0, 1, 0.057799999999999005], [60.0, 3, 0....</td>\n",
       "      <td>2018-01-25 01:13:29</td>\n",
       "      <td>2018-01-25 04:13:31</td>\n",
       "      <td>03:00:02</td>\n",
       "    </tr>\n",
       "    <tr>\n",
       "      <th>67</th>\n",
       "      <td>[[60.0, 3, 0.003899999999999], [60.0, 1, 0.054...</td>\n",
       "      <td>2018-01-24 22:49:56</td>\n",
       "      <td>2018-01-25 01:06:58</td>\n",
       "      <td>02:17:02</td>\n",
       "    </tr>\n",
       "    <tr>\n",
       "      <th>86</th>\n",
       "      <td>[[60.0, 1, 0.062399999999999005], [60.0, 3, 0....</td>\n",
       "      <td>2018-01-07 03:14:30</td>\n",
       "      <td>2018-01-07 04:24:28</td>\n",
       "      <td>01:09:58</td>\n",
       "    </tr>\n",
       "    <tr>\n",
       "      <th>339</th>\n",
       "      <td>[[60.0, 1, 0.068], [60.0, 3, 0.0178], [120.0, ...</td>\n",
       "      <td>2017-04-15 01:03:35</td>\n",
       "      <td>2017-04-15 02:22:44</td>\n",
       "      <td>01:19:09</td>\n",
       "    </tr>\n",
       "    <tr>\n",
       "      <th>372</th>\n",
       "      <td>[[60.0, 1, 0.053199999999999005], [60.0, 3, 0....</td>\n",
       "      <td>2017-03-13 00:02:41</td>\n",
       "      <td>2017-03-13 02:51:53</td>\n",
       "      <td>02:49:12</td>\n",
       "    </tr>\n",
       "    <tr>\n",
       "      <th>410</th>\n",
       "      <td>[[60.0, 3, 0.023699999999999003], [60.0, 1, 0....</td>\n",
       "      <td>2017-02-03 22:58:28</td>\n",
       "      <td>2017-02-04 01:37:04</td>\n",
       "      <td>02:38:36</td>\n",
       "    </tr>\n",
       "  </tbody>\n",
       "</table>\n",
       "</div>"
      ],
      "text/plain": [
       "                                                events               start  \\\n",
       "66   [[60.0, 1, 0.057799999999999005], [60.0, 3, 0.... 2018-01-25 01:13:29   \n",
       "67   [[60.0, 3, 0.003899999999999], [60.0, 1, 0.054... 2018-01-24 22:49:56   \n",
       "86   [[60.0, 1, 0.062399999999999005], [60.0, 3, 0.... 2018-01-07 03:14:30   \n",
       "339  [[60.0, 1, 0.068], [60.0, 3, 0.0178], [120.0, ... 2017-04-15 01:03:35   \n",
       "372  [[60.0, 1, 0.053199999999999005], [60.0, 3, 0.... 2017-03-13 00:02:41   \n",
       "410  [[60.0, 3, 0.023699999999999003], [60.0, 1, 0.... 2017-02-03 22:58:28   \n",
       "\n",
       "                   stop time_slept  \n",
       "66  2018-01-25 04:13:31   03:00:02  \n",
       "67  2018-01-25 01:06:58   02:17:02  \n",
       "86  2018-01-07 04:24:28   01:09:58  \n",
       "339 2017-04-15 02:22:44   01:19:09  \n",
       "372 2017-03-13 02:51:53   02:49:12  \n",
       "410 2017-02-04 01:37:04   02:38:36  "
      ]
     },
     "execution_count": 163,
     "metadata": {},
     "output_type": "execute_result"
    }
   ],
   "source": [
    "MAX_HOURS = 13\n",
    "MIN_HOURS = 4\n",
    "\n",
    "data[data['time_slept'].dt.total_seconds() > MAX_HOURS*60*60]\n",
    "data[data['time_slept'].dt.total_seconds() < MIN_HOURS*60*60]"
   ]
  },
  {
   "cell_type": "code",
   "execution_count": 165,
   "metadata": {},
   "outputs": [
    {
     "data": {
      "image/png": "[encoded data removed]",
      "text/plain": [
       "<Figure size 1800x432 with 1 Axes>"
      ]
     },
     "metadata": {},
     "output_type": "display_data"
    }
   ],
   "source": [
    "from datetime import timedelta\n",
    "import matplotlib.pyplot as plt\n",
    "import matplotlib.cm as cm\n",
    "import numpy as np\n",
    "\n",
    "# Fill the width of a 1920x1080 screen when plotting the entire dataset\n",
    "plt.rcParams['figure.figsize'] = [25, 6]\n",
    "\n",
    "# Use FiveThirtyEight matplotlib theme\n",
    "plt.style.use('fivethirtyeight')\n",
    "\n",
    "# Calculate time went to bed, as a offset relative to 18:00\n",
    "went_to_bed = (data['start'].dt.hour + (data['start'].dt.second / 60) - 18) % 24\n",
    "\n",
    "# Decimal hours slept\n",
    "hours_slept = time_slept.dt.total_seconds() / (60 * 60)\n",
    "\n",
    "# Create colormap relative to hours slept\n",
    "norm = (hours_slept - hours_slept.min()) / hours_slept.max()\n",
    "cmap = cm.get_cmap()\n",
    "color_map = cmap(norm)\n",
    "\n",
    "# Bottom of barplot relative to 18:00, height relative to hours slept\n",
    "ax = plt.bar(data['start'].values, hours_slept, bottom=went_to_bed, width=1.125, color=color_map)\n",
    "\n",
    "xlabel = plt.xlabel('Date')\n",
    "ylabel = plt.ylabel('Time in bed')\n",
    "\n",
    "# Map ticks relative to 18:00\n",
    "yticks = plt.yticks((np.arange(2, 25, 2) - 18) % 24, (np.arange(2, 25, 2)))\n",
    "\n",
    "plt.show()"
   ]
  },
  {
   "cell_type": "code",
   "execution_count": null,
   "metadata": {},
   "outputs": [],
   "source": []
  }
 ],
 "metadata": {
  "kernelspec": {
   "display_name": "Python 3",
   "language": "python",
   "name": "python3"
  },
  "language_info": {
   "codemirror_mode": {
    "name": "ipython",
    "version": 3
   },
   "file_extension": ".py",
   "mimetype": "text/x-python",
   "name": "python",
   "nbconvert_exporter": "python",
   "pygments_lexer": "ipython3",
   "version": "3.6.4"
  }
 },
 "nbformat": 4,
 "nbformat_minor": 2
}
